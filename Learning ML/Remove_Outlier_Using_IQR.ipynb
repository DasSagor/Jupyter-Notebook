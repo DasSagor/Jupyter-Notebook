{
 "cells": [
  {
   "cell_type": "code",
   "execution_count": 10,
   "id": "5cf90b13",
   "metadata": {},
   "outputs": [],
   "source": [
    "import pandas as pd\n",
    "import seaborn as sns\n",
    "import matplotlib.pyplot as plt\n"
   ]
  },
  {
   "cell_type": "code",
   "execution_count": 11,
   "id": "c9c943ed",
   "metadata": {},
   "outputs": [
    {
     "data": {
      "text/html": [
       "<div>\n",
       "<style scoped>\n",
       "    .dataframe tbody tr th:only-of-type {\n",
       "        vertical-align: middle;\n",
       "    }\n",
       "\n",
       "    .dataframe tbody tr th {\n",
       "        vertical-align: top;\n",
       "    }\n",
       "\n",
       "    .dataframe thead th {\n",
       "        text-align: right;\n",
       "    }\n",
       "</style>\n",
       "<table border=\"1\" class=\"dataframe\">\n",
       "  <thead>\n",
       "    <tr style=\"text-align: right;\">\n",
       "      <th></th>\n",
       "      <th>Load_ID</th>\n",
       "      <th>Name</th>\n",
       "      <th>Gender</th>\n",
       "      <th>Married</th>\n",
       "      <th>Dependent</th>\n",
       "      <th>Education</th>\n",
       "      <th>Self_Employed</th>\n",
       "      <th>Application_No</th>\n",
       "      <th>Applicant_Income</th>\n",
       "      <th>Coapplicant_Income</th>\n",
       "      <th>Loan_Amount</th>\n",
       "      <th>Loan_Amount_Term</th>\n",
       "      <th>Credit_History</th>\n",
       "      <th>Property_Area</th>\n",
       "      <th>Loan_Status</th>\n",
       "    </tr>\n",
       "  </thead>\n",
       "  <tbody>\n",
       "    <tr>\n",
       "      <th>0</th>\n",
       "      <td>LP100000</td>\n",
       "      <td>Applicant_0</td>\n",
       "      <td>Male</td>\n",
       "      <td>Yes</td>\n",
       "      <td>1</td>\n",
       "      <td>Not Graduate</td>\n",
       "      <td>No</td>\n",
       "      <td>APP1000</td>\n",
       "      <td>6392.0</td>\n",
       "      <td>7598.0</td>\n",
       "      <td>394.0</td>\n",
       "      <td>180.0</td>\n",
       "      <td>1.0</td>\n",
       "      <td>Urban</td>\n",
       "      <td>Y</td>\n",
       "    </tr>\n",
       "    <tr>\n",
       "      <th>1</th>\n",
       "      <td>LP100001</td>\n",
       "      <td>Applicant_1</td>\n",
       "      <td>Male</td>\n",
       "      <td>Yes</td>\n",
       "      <td>3+</td>\n",
       "      <td>Graduate</td>\n",
       "      <td>Yes</td>\n",
       "      <td>APP1001</td>\n",
       "      <td>10690.0</td>\n",
       "      <td>NaN</td>\n",
       "      <td>329.0</td>\n",
       "      <td>240.0</td>\n",
       "      <td>0.0</td>\n",
       "      <td>Rural</td>\n",
       "      <td>Y</td>\n",
       "    </tr>\n",
       "    <tr>\n",
       "      <th>2</th>\n",
       "      <td>LP100002</td>\n",
       "      <td>Applicant_2</td>\n",
       "      <td>Female</td>\n",
       "      <td>Yes</td>\n",
       "      <td>1</td>\n",
       "      <td>Graduate</td>\n",
       "      <td>Yes</td>\n",
       "      <td>APP1002</td>\n",
       "      <td>2521.0</td>\n",
       "      <td>2271.0</td>\n",
       "      <td>118.0</td>\n",
       "      <td>360.0</td>\n",
       "      <td>NaN</td>\n",
       "      <td>Rural</td>\n",
       "      <td>N</td>\n",
       "    </tr>\n",
       "    <tr>\n",
       "      <th>3</th>\n",
       "      <td>LP100003</td>\n",
       "      <td>Applicant_3</td>\n",
       "      <td>Male</td>\n",
       "      <td>Yes</td>\n",
       "      <td>1</td>\n",
       "      <td>NaN</td>\n",
       "      <td>Yes</td>\n",
       "      <td>APP1003</td>\n",
       "      <td>12613.0</td>\n",
       "      <td>14322.0</td>\n",
       "      <td>630.0</td>\n",
       "      <td>360.0</td>\n",
       "      <td>NaN</td>\n",
       "      <td>Urban</td>\n",
       "      <td>Y</td>\n",
       "    </tr>\n",
       "    <tr>\n",
       "      <th>4</th>\n",
       "      <td>LP100004</td>\n",
       "      <td>Applicant_4</td>\n",
       "      <td>Male</td>\n",
       "      <td>No</td>\n",
       "      <td>2</td>\n",
       "      <td>Not Graduate</td>\n",
       "      <td>No</td>\n",
       "      <td>APP1004</td>\n",
       "      <td>13795.0</td>\n",
       "      <td>NaN</td>\n",
       "      <td>593.0</td>\n",
       "      <td>NaN</td>\n",
       "      <td>NaN</td>\n",
       "      <td>NaN</td>\n",
       "      <td>N</td>\n",
       "    </tr>\n",
       "    <tr>\n",
       "      <th>5</th>\n",
       "      <td>LP100005</td>\n",
       "      <td>Applicant_5</td>\n",
       "      <td>Male</td>\n",
       "      <td>Yes</td>\n",
       "      <td>NaN</td>\n",
       "      <td>Not Graduate</td>\n",
       "      <td>Yes</td>\n",
       "      <td>APP1005</td>\n",
       "      <td>22029.0</td>\n",
       "      <td>6641.0</td>\n",
       "      <td>536.0</td>\n",
       "      <td>360.0</td>\n",
       "      <td>0.0</td>\n",
       "      <td>Rural</td>\n",
       "      <td>NaN</td>\n",
       "    </tr>\n",
       "    <tr>\n",
       "      <th>6</th>\n",
       "      <td>LP100006</td>\n",
       "      <td>Applicant_6</td>\n",
       "      <td>Male</td>\n",
       "      <td>Yes</td>\n",
       "      <td>3+</td>\n",
       "      <td>Graduate</td>\n",
       "      <td>Yes</td>\n",
       "      <td>APP1006</td>\n",
       "      <td>NaN</td>\n",
       "      <td>3030.0</td>\n",
       "      <td>487.0</td>\n",
       "      <td>120.0</td>\n",
       "      <td>0.0</td>\n",
       "      <td>Urban</td>\n",
       "      <td>N</td>\n",
       "    </tr>\n",
       "    <tr>\n",
       "      <th>7</th>\n",
       "      <td>LP100007</td>\n",
       "      <td>Applicant_7</td>\n",
       "      <td>Male</td>\n",
       "      <td>Yes</td>\n",
       "      <td>0</td>\n",
       "      <td>Not Graduate</td>\n",
       "      <td>Yes</td>\n",
       "      <td>APP1007</td>\n",
       "      <td>6938.0</td>\n",
       "      <td>12941.0</td>\n",
       "      <td>264.0</td>\n",
       "      <td>NaN</td>\n",
       "      <td>1.0</td>\n",
       "      <td>Urban</td>\n",
       "      <td>N</td>\n",
       "    </tr>\n",
       "    <tr>\n",
       "      <th>8</th>\n",
       "      <td>LP100008</td>\n",
       "      <td>Applicant_8</td>\n",
       "      <td>Female</td>\n",
       "      <td>Yes</td>\n",
       "      <td>NaN</td>\n",
       "      <td>NaN</td>\n",
       "      <td>No</td>\n",
       "      <td>APP1008</td>\n",
       "      <td>20209.0</td>\n",
       "      <td>14279.0</td>\n",
       "      <td>405.0</td>\n",
       "      <td>180.0</td>\n",
       "      <td>0.0</td>\n",
       "      <td>Rural</td>\n",
       "      <td>Y</td>\n",
       "    </tr>\n",
       "    <tr>\n",
       "      <th>9</th>\n",
       "      <td>LP100009</td>\n",
       "      <td>Applicant_9</td>\n",
       "      <td>Male</td>\n",
       "      <td>NaN</td>\n",
       "      <td>3+</td>\n",
       "      <td>Not Graduate</td>\n",
       "      <td>No</td>\n",
       "      <td>APP1009</td>\n",
       "      <td>21347.0</td>\n",
       "      <td>6068.0</td>\n",
       "      <td>128.0</td>\n",
       "      <td>240.0</td>\n",
       "      <td>0.0</td>\n",
       "      <td>Rural</td>\n",
       "      <td>N</td>\n",
       "    </tr>\n",
       "  </tbody>\n",
       "</table>\n",
       "</div>"
      ],
      "text/plain": [
       "    Load_ID         Name  Gender Married Dependent     Education  \\\n",
       "0  LP100000  Applicant_0    Male     Yes         1  Not Graduate   \n",
       "1  LP100001  Applicant_1    Male     Yes        3+      Graduate   \n",
       "2  LP100002  Applicant_2  Female     Yes         1      Graduate   \n",
       "3  LP100003  Applicant_3    Male     Yes         1           NaN   \n",
       "4  LP100004  Applicant_4    Male      No         2  Not Graduate   \n",
       "5  LP100005  Applicant_5    Male     Yes       NaN  Not Graduate   \n",
       "6  LP100006  Applicant_6    Male     Yes        3+      Graduate   \n",
       "7  LP100007  Applicant_7    Male     Yes         0  Not Graduate   \n",
       "8  LP100008  Applicant_8  Female     Yes       NaN           NaN   \n",
       "9  LP100009  Applicant_9    Male     NaN        3+  Not Graduate   \n",
       "\n",
       "  Self_Employed Application_No  Applicant_Income  Coapplicant_Income  \\\n",
       "0            No        APP1000            6392.0              7598.0   \n",
       "1           Yes        APP1001           10690.0                 NaN   \n",
       "2           Yes        APP1002            2521.0              2271.0   \n",
       "3           Yes        APP1003           12613.0             14322.0   \n",
       "4            No        APP1004           13795.0                 NaN   \n",
       "5           Yes        APP1005           22029.0              6641.0   \n",
       "6           Yes        APP1006               NaN              3030.0   \n",
       "7           Yes        APP1007            6938.0             12941.0   \n",
       "8            No        APP1008           20209.0             14279.0   \n",
       "9            No        APP1009           21347.0              6068.0   \n",
       "\n",
       "   Loan_Amount  Loan_Amount_Term  Credit_History Property_Area Loan_Status  \n",
       "0        394.0             180.0             1.0         Urban           Y  \n",
       "1        329.0             240.0             0.0         Rural           Y  \n",
       "2        118.0             360.0             NaN         Rural           N  \n",
       "3        630.0             360.0             NaN         Urban           Y  \n",
       "4        593.0               NaN             NaN           NaN           N  \n",
       "5        536.0             360.0             0.0         Rural         NaN  \n",
       "6        487.0             120.0             0.0         Urban           N  \n",
       "7        264.0               NaN             1.0         Urban           N  \n",
       "8        405.0             180.0             0.0         Rural           Y  \n",
       "9        128.0             240.0             0.0         Rural           N  "
      ]
     },
     "execution_count": 11,
     "metadata": {},
     "output_type": "execute_result"
    }
   ],
   "source": [
    "dataset = pd.read_csv('loan_application.csv')\n",
    "dataset.head(10)"
   ]
  },
  {
   "cell_type": "code",
   "execution_count": 12,
   "id": "3863bc5b",
   "metadata": {},
   "outputs": [
    {
     "data": {
      "text/html": [
       "<div>\n",
       "<style scoped>\n",
       "    .dataframe tbody tr th:only-of-type {\n",
       "        vertical-align: middle;\n",
       "    }\n",
       "\n",
       "    .dataframe tbody tr th {\n",
       "        vertical-align: top;\n",
       "    }\n",
       "\n",
       "    .dataframe thead th {\n",
       "        text-align: right;\n",
       "    }\n",
       "</style>\n",
       "<table border=\"1\" class=\"dataframe\">\n",
       "  <thead>\n",
       "    <tr style=\"text-align: right;\">\n",
       "      <th></th>\n",
       "      <th>Applicant_Income</th>\n",
       "      <th>Coapplicant_Income</th>\n",
       "      <th>Loan_Amount</th>\n",
       "      <th>Loan_Amount_Term</th>\n",
       "      <th>Credit_History</th>\n",
       "    </tr>\n",
       "  </thead>\n",
       "  <tbody>\n",
       "    <tr>\n",
       "      <th>count</th>\n",
       "      <td>900.000000</td>\n",
       "      <td>900.000000</td>\n",
       "      <td>900.000000</td>\n",
       "      <td>900.000000</td>\n",
       "      <td>900.000000</td>\n",
       "    </tr>\n",
       "    <tr>\n",
       "      <th>mean</th>\n",
       "      <td>13545.182222</td>\n",
       "      <td>7576.337778</td>\n",
       "      <td>378.163333</td>\n",
       "      <td>227.200000</td>\n",
       "      <td>0.534444</td>\n",
       "    </tr>\n",
       "    <tr>\n",
       "      <th>std</th>\n",
       "      <td>10430.314659</td>\n",
       "      <td>6278.599756</td>\n",
       "      <td>187.861222</td>\n",
       "      <td>86.928454</td>\n",
       "      <td>0.499090</td>\n",
       "    </tr>\n",
       "    <tr>\n",
       "      <th>min</th>\n",
       "      <td>1506.000000</td>\n",
       "      <td>22.000000</td>\n",
       "      <td>52.000000</td>\n",
       "      <td>120.000000</td>\n",
       "      <td>0.000000</td>\n",
       "    </tr>\n",
       "    <tr>\n",
       "      <th>25%</th>\n",
       "      <td>6990.250000</td>\n",
       "      <td>3634.750000</td>\n",
       "      <td>207.000000</td>\n",
       "      <td>180.000000</td>\n",
       "      <td>0.000000</td>\n",
       "    </tr>\n",
       "    <tr>\n",
       "      <th>50%</th>\n",
       "      <td>13421.000000</td>\n",
       "      <td>7552.000000</td>\n",
       "      <td>383.500000</td>\n",
       "      <td>240.000000</td>\n",
       "      <td>1.000000</td>\n",
       "    </tr>\n",
       "    <tr>\n",
       "      <th>75%</th>\n",
       "      <td>19454.250000</td>\n",
       "      <td>11218.250000</td>\n",
       "      <td>539.000000</td>\n",
       "      <td>240.000000</td>\n",
       "      <td>1.000000</td>\n",
       "    </tr>\n",
       "    <tr>\n",
       "      <th>max</th>\n",
       "      <td>246597.000000</td>\n",
       "      <td>144981.000000</td>\n",
       "      <td>696.000000</td>\n",
       "      <td>360.000000</td>\n",
       "      <td>1.000000</td>\n",
       "    </tr>\n",
       "  </tbody>\n",
       "</table>\n",
       "</div>"
      ],
      "text/plain": [
       "       Applicant_Income  Coapplicant_Income  Loan_Amount  Loan_Amount_Term  \\\n",
       "count        900.000000          900.000000   900.000000        900.000000   \n",
       "mean       13545.182222         7576.337778   378.163333        227.200000   \n",
       "std        10430.314659         6278.599756   187.861222         86.928454   \n",
       "min         1506.000000           22.000000    52.000000        120.000000   \n",
       "25%         6990.250000         3634.750000   207.000000        180.000000   \n",
       "50%        13421.000000         7552.000000   383.500000        240.000000   \n",
       "75%        19454.250000        11218.250000   539.000000        240.000000   \n",
       "max       246597.000000       144981.000000   696.000000        360.000000   \n",
       "\n",
       "       Credit_History  \n",
       "count      900.000000  \n",
       "mean         0.534444  \n",
       "std          0.499090  \n",
       "min          0.000000  \n",
       "25%          0.000000  \n",
       "50%          1.000000  \n",
       "75%          1.000000  \n",
       "max          1.000000  "
      ]
     },
     "execution_count": 12,
     "metadata": {},
     "output_type": "execute_result"
    }
   ],
   "source": [
    "dataset.describe()"
   ]
  },
  {
   "cell_type": "code",
   "execution_count": 14,
   "id": "124ba942",
   "metadata": {},
   "outputs": [
    {
     "data": {
      "image/png": "[encoded data removed]",
      "text/plain": [
       "<Figure size 640x480 with 1 Axes>"
      ]
     },
     "metadata": {},
     "output_type": "display_data"
    }
   ],
   "source": [
    "sns.boxplot(x = 'Applicant_Income', data=dataset)\n",
    "plt.show()"
   ]
  },
  {
   "cell_type": "code",
   "execution_count": 16,
   "id": "f5424ea6",
   "metadata": {},
   "outputs": [
    {
     "data": {
      "text/plain": [
       "(1000, 15)"
      ]
     },
     "execution_count": 16,
     "metadata": {},
     "output_type": "execute_result"
    }
   ],
   "source": [
    "dataset.shape"
   ]
  },
  {
   "cell_type": "code",
   "execution_count": 22,
   "id": "6bb41507",
   "metadata": {},
   "outputs": [
    {
     "data": {
      "text/plain": [
       "12464.0"
      ]
     },
     "execution_count": 22,
     "metadata": {},
     "output_type": "execute_result"
    }
   ],
   "source": [
    "q1 = dataset['Applicant_Income'].quantile(0.25)\n",
    "q3 = dataset['Applicant_Income'].quantile(0.75)\n",
    "iqr = q3 - q1\n",
    "iqr"
   ]
  },
  {
   "cell_type": "code",
   "execution_count": 25,
   "id": "070bcc34",
   "metadata": {},
   "outputs": [
    {
     "data": {
      "text/plain": [
       "(-11705.75, 38150.25)"
      ]
     },
     "execution_count": 25,
     "metadata": {},
     "output_type": "execute_result"
    }
   ],
   "source": [
    "min_range = q1 - (1.5 * iqr)\n",
    "max_range = q3 + (1.5 * iqr)\n",
    "min_range, max_range"
   ]
  },
  {
   "cell_type": "code",
   "execution_count": 27,
   "id": "e6bf7ae8",
   "metadata": {},
   "outputs": [
    {
     "data": {
      "text/plain": [
       "(899, 15)"
      ]
     },
     "execution_count": 27,
     "metadata": {},
     "output_type": "execute_result"
    }
   ],
   "source": [
    "new_dataset =dataset[(dataset['Applicant_Income'] < max_range)]\n",
    "new_dataset.shape"
   ]
  },
  {
   "cell_type": "code",
   "execution_count": 28,
   "id": "d8edd1f9",
   "metadata": {},
   "outputs": [
    {
     "data": {
      "image/png": "[encoded data removed]",
      "text/plain": [
       "<Figure size 640x480 with 1 Axes>"
      ]
     },
     "metadata": {},
     "output_type": "display_data"
    }
   ],
   "source": [
    "sns.boxplot(x = 'Applicant_Income', data=new_dataset)\n",
    "plt.show()"
   ]
  }
 ],
 "metadata": {
  "kernelspec": {
   "display_name": "Python 3",
   "language": "python",
   "name": "python3"
  },
  "language_info": {
   "codemirror_mode": {
    "name": "ipython",
    "version": 3
   },
   "file_extension": ".py",
   "mimetype": "text/x-python",
   "name": "python",
   "nbconvert_exporter": "python",
   "pygments_lexer": "ipython3",
   "version": "3.12.3"
  }
 },
 "nbformat": 4,
 "nbformat_minor": 5
}
