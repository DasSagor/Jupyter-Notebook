{
 "cells": [
  {
   "cell_type": "code",
   "execution_count": 2,
   "id": "ddbf7ca3",
   "metadata": {},
   "outputs": [],
   "source": [
    "import pandas as pd"
   ]
  },
  {
   "cell_type": "code",
   "execution_count": 3,
   "id": "86d0cab3",
   "metadata": {},
   "outputs": [
    {
     "data": {
      "text/html": [
       "<div>\n",
       "<style scoped>\n",
       "    .dataframe tbody tr th:only-of-type {\n",
       "        vertical-align: middle;\n",
       "    }\n",
       "\n",
       "    .dataframe tbody tr th {\n",
       "        vertical-align: top;\n",
       "    }\n",
       "\n",
       "    .dataframe thead th {\n",
       "        text-align: right;\n",
       "    }\n",
       "</style>\n",
       "<table border=\"1\" class=\"dataframe\">\n",
       "  <thead>\n",
       "    <tr style=\"text-align: right;\">\n",
       "      <th></th>\n",
       "      <th>CGPA</th>\n",
       "      <th>Package</th>\n",
       "    </tr>\n",
       "  </thead>\n",
       "  <tbody>\n",
       "    <tr>\n",
       "      <th>0</th>\n",
       "      <td>8.00</td>\n",
       "      <td>6.68</td>\n",
       "    </tr>\n",
       "    <tr>\n",
       "      <th>1</th>\n",
       "      <td>7.36</td>\n",
       "      <td>5.82</td>\n",
       "    </tr>\n",
       "    <tr>\n",
       "      <th>2</th>\n",
       "      <td>8.15</td>\n",
       "      <td>7.27</td>\n",
       "    </tr>\n",
       "    <tr>\n",
       "      <th>3</th>\n",
       "      <td>9.02</td>\n",
       "      <td>8.56</td>\n",
       "    </tr>\n",
       "    <tr>\n",
       "      <th>4</th>\n",
       "      <td>7.27</td>\n",
       "      <td>4.72</td>\n",
       "    </tr>\n",
       "  </tbody>\n",
       "</table>\n",
       "</div>"
      ],
      "text/plain": [
       "   CGPA  Package\n",
       "0  8.00     6.68\n",
       "1  7.36     5.82\n",
       "2  8.15     7.27\n",
       "3  9.02     8.56\n",
       "4  7.27     4.72"
      ]
     },
     "execution_count": 3,
     "metadata": {},
     "output_type": "execute_result"
    }
   ],
   "source": [
    "dataset = pd.read_csv('package.csv')\n",
    "dataset.head()"
   ]
  },
  {
   "cell_type": "code",
   "execution_count": 8,
   "id": "5c8deff9",
   "metadata": {},
   "outputs": [],
   "source": [
    "x = dataset.iloc[:,:-1]\n",
    "y = dataset['Package']"
   ]
  },
  {
   "cell_type": "code",
   "execution_count": 10,
   "id": "a6d43db1",
   "metadata": {},
   "outputs": [],
   "source": [
    "from sklearn.model_selection import train_test_split\n",
    "\n",
    "x_train,x_test, y_train, y_test = train_test_split(x,y,test_size=0.2,random_state=42)"
   ]
  },
  {
   "cell_type": "code",
   "execution_count": 11,
   "id": "3af8987a",
   "metadata": {},
   "outputs": [],
   "source": [
    "from sklearn.linear_model import LinearRegression\n",
    "from sklearn.tree import DecisionTreeRegressor\n",
    "from sklearn.svm import SVR"
   ]
  },
  {
   "cell_type": "code",
   "execution_count": 12,
   "id": "96c10908",
   "metadata": {},
   "outputs": [
    {
     "data": {
      "text/plain": [
       "(90.5091849211102, 84.810170693823)"
      ]
     },
     "execution_count": 12,
     "metadata": {},
     "output_type": "execute_result"
    }
   ],
   "source": [
    "lr = LinearRegression()\n",
    "lr.fit(x_train,y_train)\n",
    "lr.score(x_train,y_train)*100, lr.score(x_test,y_test)*100"
   ]
  },
  {
   "cell_type": "code",
   "execution_count": 13,
   "id": "bc25df95",
   "metadata": {},
   "outputs": [
    {
     "data": {
      "text/plain": [
       "(98.57293879674639, 74.71658315589286)"
      ]
     },
     "execution_count": 13,
     "metadata": {},
     "output_type": "execute_result"
    }
   ],
   "source": [
    "dr = DecisionTreeRegressor()\n",
    "dr.fit(x_train,y_train)\n",
    "dr.score(x_train,y_train)*100, dr.score(x_test,y_test)*100"
   ]
  },
  {
   "cell_type": "code",
   "execution_count": 14,
   "id": "46235a3a",
   "metadata": {},
   "outputs": [
    {
     "data": {
      "text/plain": [
       "(89.08458637876633, 85.9390711183708)"
      ]
     },
     "execution_count": 14,
     "metadata": {},
     "output_type": "execute_result"
    }
   ],
   "source": [
    "sr = SVR()\n",
    "sr.fit(x_train,y_train)\n",
    "sr.score(x_train,y_train)*100, sr.score(x_test,y_test)*100"
   ]
  },
  {
   "cell_type": "code",
   "execution_count": 17,
   "id": "707fabe3",
   "metadata": {},
   "outputs": [
    {
     "data": {
      "text/plain": [
       "(94.86338669233662, 84.81155748033798)"
      ]
     },
     "execution_count": 17,
     "metadata": {},
     "output_type": "execute_result"
    }
   ],
   "source": [
    "from sklearn.ensemble import VotingRegressor\n",
    "li =[('lr1',LinearRegression()),('dr1',DecisionTreeRegressor()),('sr1',SVR())]\n",
    "vc = VotingRegressor(li)\n",
    "vc.fit(x_train,y_train)\n",
    "vc.score(x_train,y_train)*100, vc.score(x_test,y_test)*100"
   ]
  },
  {
   "cell_type": "code",
   "execution_count": 19,
   "id": "9fc5fe8e",
   "metadata": {},
   "outputs": [
    {
     "data": {
      "text/html": [
       "<div>\n",
       "<style scoped>\n",
       "    .dataframe tbody tr th:only-of-type {\n",
       "        vertical-align: middle;\n",
       "    }\n",
       "\n",
       "    .dataframe tbody tr th {\n",
       "        vertical-align: top;\n",
       "    }\n",
       "\n",
       "    .dataframe thead th {\n",
       "        text-align: right;\n",
       "    }\n",
       "</style>\n",
       "<table border=\"1\" class=\"dataframe\">\n",
       "  <thead>\n",
       "    <tr style=\"text-align: right;\">\n",
       "      <th></th>\n",
       "      <th>lr</th>\n",
       "      <th>dr</th>\n",
       "      <th>sr</th>\n",
       "      <th>vc</th>\n",
       "    </tr>\n",
       "  </thead>\n",
       "  <tbody>\n",
       "    <tr>\n",
       "      <th>0</th>\n",
       "      <td>3.509073</td>\n",
       "      <td>2.93</td>\n",
       "      <td>3.417307</td>\n",
       "      <td>3.285460</td>\n",
       "    </tr>\n",
       "    <tr>\n",
       "      <th>1</th>\n",
       "      <td>4.916286</td>\n",
       "      <td>5.29</td>\n",
       "      <td>5.049509</td>\n",
       "      <td>5.085265</td>\n",
       "    </tr>\n",
       "    <tr>\n",
       "      <th>2</th>\n",
       "      <td>4.853743</td>\n",
       "      <td>4.49</td>\n",
       "      <td>4.980998</td>\n",
       "      <td>4.774914</td>\n",
       "    </tr>\n",
       "    <tr>\n",
       "      <th>3</th>\n",
       "      <td>3.931237</td>\n",
       "      <td>3.44</td>\n",
       "      <td>3.884412</td>\n",
       "      <td>3.751883</td>\n",
       "    </tr>\n",
       "    <tr>\n",
       "      <th>4</th>\n",
       "      <td>5.948241</td>\n",
       "      <td>5.80</td>\n",
       "      <td>6.036330</td>\n",
       "      <td>5.928191</td>\n",
       "    </tr>\n",
       "  </tbody>\n",
       "</table>\n",
       "</div>"
      ],
      "text/plain": [
       "         lr    dr        sr        vc\n",
       "0  3.509073  2.93  3.417307  3.285460\n",
       "1  4.916286  5.29  5.049509  5.085265\n",
       "2  4.853743  4.49  4.980998  4.774914\n",
       "3  3.931237  3.44  3.884412  3.751883\n",
       "4  5.948241  5.80  6.036330  5.928191"
      ]
     },
     "execution_count": 19,
     "metadata": {},
     "output_type": "execute_result"
    }
   ],
   "source": [
    "prd = {'lr':lr.predict(x_test),'dr':dr.predict(x_test),'sr':sr.predict(x_test),'vc':vc.predict(x_test)}\n",
    "pd.DataFrame(prd).head()"
   ]
  },
  {
   "cell_type": "code",
   "execution_count": 20,
   "id": "a1f6b9fa",
   "metadata": {},
   "outputs": [
    {
     "data": {
      "text/plain": [
       "3.2854600000000005"
      ]
     },
     "execution_count": 20,
     "metadata": {},
     "output_type": "execute_result"
    }
   ],
   "source": [
    "(3.509073+2.93+3.417307)/3"
   ]
  }
 ],
 "metadata": {
  "kernelspec": {
   "display_name": "Python 3",
   "language": "python",
   "name": "python3"
  },
  "language_info": {
   "codemirror_mode": {
    "name": "ipython",
    "version": 3
   },
   "file_extension": ".py",
   "mimetype": "text/x-python",
   "name": "python",
   "nbconvert_exporter": "python",
   "pygments_lexer": "ipython3",
   "version": "3.12.3"
  }
 },
 "nbformat": 4,
 "nbformat_minor": 5
}
