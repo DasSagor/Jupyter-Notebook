{
 "cells": [
  {
   "cell_type": "code",
   "execution_count": 102,
   "id": "33642292",
   "metadata": {},
   "outputs": [],
   "source": [
    "import pandas as pd"
   ]
  },
  {
   "cell_type": "code",
   "execution_count": 103,
   "id": "537d083a",
   "metadata": {},
   "outputs": [
    {
     "data": {
      "text/html": [
       "<div>\n",
       "<style scoped>\n",
       "    .dataframe tbody tr th:only-of-type {\n",
       "        vertical-align: middle;\n",
       "    }\n",
       "\n",
       "    .dataframe tbody tr th {\n",
       "        vertical-align: top;\n",
       "    }\n",
       "\n",
       "    .dataframe thead th {\n",
       "        text-align: right;\n",
       "    }\n",
       "</style>\n",
       "<table border=\"1\" class=\"dataframe\">\n",
       "  <thead>\n",
       "    <tr style=\"text-align: right;\">\n",
       "      <th></th>\n",
       "      <th>CGPA</th>\n",
       "      <th>Package</th>\n",
       "    </tr>\n",
       "  </thead>\n",
       "  <tbody>\n",
       "    <tr>\n",
       "      <th>0</th>\n",
       "      <td>8.00</td>\n",
       "      <td>6.68</td>\n",
       "    </tr>\n",
       "    <tr>\n",
       "      <th>1</th>\n",
       "      <td>7.36</td>\n",
       "      <td>5.82</td>\n",
       "    </tr>\n",
       "    <tr>\n",
       "      <th>2</th>\n",
       "      <td>8.15</td>\n",
       "      <td>7.27</td>\n",
       "    </tr>\n",
       "    <tr>\n",
       "      <th>3</th>\n",
       "      <td>9.02</td>\n",
       "      <td>8.56</td>\n",
       "    </tr>\n",
       "    <tr>\n",
       "      <th>4</th>\n",
       "      <td>7.27</td>\n",
       "      <td>4.72</td>\n",
       "    </tr>\n",
       "  </tbody>\n",
       "</table>\n",
       "</div>"
      ],
      "text/plain": [
       "   CGPA  Package\n",
       "0  8.00     6.68\n",
       "1  7.36     5.82\n",
       "2  8.15     7.27\n",
       "3  9.02     8.56\n",
       "4  7.27     4.72"
      ]
     },
     "execution_count": 103,
     "metadata": {},
     "output_type": "execute_result"
    }
   ],
   "source": [
    "dataset = pd.read_csv('package.csv')\n",
    "dataset.head()"
   ]
  },
  {
   "cell_type": "code",
   "execution_count": 104,
   "id": "736a6cbe",
   "metadata": {},
   "outputs": [],
   "source": [
    "x = dataset[['CGPA']]\n",
    "y = dataset['Package']"
   ]
  },
  {
   "cell_type": "code",
   "execution_count": 105,
   "id": "31464c00",
   "metadata": {},
   "outputs": [],
   "source": [
    "from sklearn.linear_model import LinearRegression\n",
    "from sklearn.model_selection import LeaveOneOut, LeavePOut, KFold, StratifiedKFold"
   ]
  },
  {
   "cell_type": "code",
   "execution_count": 106,
   "id": "192eaee0",
   "metadata": {},
   "outputs": [],
   "source": [
    "from sklearn.model_selection import cross_val_score\n",
    "\n",
    "p = cross_val_score(LinearRegression(),x,y,cv=KFold(n_splits=6))"
   ]
  },
  {
   "cell_type": "code",
   "execution_count": 107,
   "id": "ef4a4e6e",
   "metadata": {},
   "outputs": [
    {
     "data": {
      "text/plain": [
       "array([82.28062381, 84.84286956, 89.34497477, 91.9255388 , 92.30058613,\n",
       "       94.00609003])"
      ]
     },
     "execution_count": 107,
     "metadata": {},
     "output_type": "execute_result"
    }
   ],
   "source": [
    "p.sort()\n",
    "p*100"
   ]
  },
  {
   "cell_type": "code",
   "execution_count": 108,
   "id": "be51e34a",
   "metadata": {},
   "outputs": [],
   "source": [
    "new_data = dataset.head(15)\n",
    "\n",
    "x_new = new_data[['CGPA']]\n",
    "y_new = new_data['Package']"
   ]
  },
  {
   "cell_type": "code",
   "execution_count": 109,
   "id": "482d7428",
   "metadata": {},
   "outputs": [
    {
     "name": "stdout",
     "output_type": "stream",
     "text": [
      "[ 3  4  5  6  7  8  9 10 11 12 13 14] [0 1 2]\n",
      "[ 0  1  2  6  7  8  9 10 11 12 13 14] [3 4 5]\n",
      "[ 0  1  2  3  4  5  9 10 11 12 13 14] [6 7 8]\n",
      "[ 0  1  2  3  4  5  6  7  8 11 12 13 14] [ 9 10]\n",
      "[ 0  1  2  3  4  5  6  7  8  9 10 13 14] [11 12]\n",
      "[ 0  1  2  3  4  5  6  7  8  9 10 11 12] [13 14]\n"
     ]
    }
   ],
   "source": [
    "lo = KFold(n_splits=6)\n",
    "\n",
    "for train, test, in lo.split(x_new,y_new):\n",
    "    print(train,test)"
   ]
  }
 ],
 "metadata": {
  "kernelspec": {
   "display_name": "Python 3",
   "language": "python",
   "name": "python3"
  },
  "language_info": {
   "codemirror_mode": {
    "name": "ipython",
    "version": 3
   },
   "file_extension": ".py",
   "mimetype": "text/x-python",
   "name": "python",
   "nbconvert_exporter": "python",
   "pygments_lexer": "ipython3",
   "version": "3.12.3"
  }
 },
 "nbformat": 4,
 "nbformat_minor": 5
}
