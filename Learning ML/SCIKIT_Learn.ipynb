{
 "cells": [
  {
   "cell_type": "code",
   "execution_count": null,
   "id": "8ea598d6",
   "metadata": {},
   "outputs": [],
   "source": [
    "import pandas as pd\n",
    "import seaborn as sns\n",
    "import matplotlib.pyplot as plt"
   ]
  },
  {
   "cell_type": "code",
   "execution_count": null,
   "id": "535e1f2f",
   "metadata": {},
   "outputs": [],
   "source": [
    "dataset = pd.read_csv('loan_application.csv')\n",
    "dataset.head(30)"
   ]
  },
  {
   "cell_type": "code",
   "execution_count": null,
   "id": "1e466203",
   "metadata": {},
   "outputs": [],
   "source": [
    "dataset.isnull().sum()"
   ]
  },
  {
   "cell_type": "code",
   "execution_count": null,
   "id": "b9d9ffec",
   "metadata": {},
   "outputs": [],
   "source": [
    "dataset.info()"
   ]
  },
  {
   "cell_type": "code",
   "execution_count": null,
   "id": "8aa25187",
   "metadata": {},
   "outputs": [],
   "source": [
    "dataset.select_dtypes(include='float64').columns"
   ]
  },
  {
   "cell_type": "code",
   "execution_count": null,
   "id": "74eb0db0",
   "metadata": {},
   "outputs": [],
   "source": [
    "from sklearn.impute import SimpleImputer\n"
   ]
  },
  {
   "cell_type": "code",
   "execution_count": null,
   "id": "505a9268",
   "metadata": {},
   "outputs": [],
   "source": [
    "si = SimpleImputer(strategy='mean',)\n",
    "si.fit_transform(dataset[['Applicant_Income', 'Coapplicant_Income', 'Loan_Amount','Loan_Amount_Term', 'Credit_History']])"
   ]
  },
  {
   "cell_type": "code",
   "execution_count": null,
   "id": "5576e674",
   "metadata": {},
   "outputs": [],
   "source": [
    "ar = si.transform(dataset[['Applicant_Income', 'Coapplicant_Income', 'Loan_Amount','Loan_Amount_Term', 'Credit_History']])\n",
    "pd.DataFrame(ar, columns=dataset.select_dtypes(include='float64').columns)"
   ]
  },
  {
   "cell_type": "code",
   "execution_count": null,
   "id": "408b9309",
   "metadata": {},
   "outputs": [],
   "source": [
    "new_dataset = pd.DataFrame(ar, columns=dataset.select_dtypes(include='float64').columns)\n",
    "new_dataset.isnull().sum()"
   ]
  },
  {
   "cell_type": "code",
   "execution_count": null,
   "id": "d1c64408",
   "metadata": {},
   "outputs": [],
   "source": [
    "new_dataset.head(30)"
   ]
  }
 ],
 "metadata": {
  "kernelspec": {
   "display_name": "Python 3",
   "language": "python",
   "name": "python3"
  },
  "language_info": {
   "codemirror_mode": {
    "name": "ipython",
    "version": 3
   },
   "file_extension": ".py",
   "mimetype": "text/x-python",
   "name": "python",
   "nbconvert_exporter": "python",
   "pygments_lexer": "ipython3",
   "version": "3.12.3"
  }
 },
 "nbformat": 4,
 "nbformat_minor": 5
}
