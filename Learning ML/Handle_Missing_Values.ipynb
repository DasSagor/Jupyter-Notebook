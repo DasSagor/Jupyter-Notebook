{
 "cells": [
  {
   "cell_type": "code",
   "execution_count": 1,
   "id": "102b054b",
   "metadata": {},
   "outputs": [],
   "source": [
    "import pandas as pd\n",
    "import seaborn as sns\n",
    "import matplotlib.pyplot as plt\n"
   ]
  },
  {
   "cell_type": "code",
   "execution_count": null,
   "id": "41731341",
   "metadata": {},
   "outputs": [],
   "source": [
    "dataset = pd.read_csv(r\"loan_dataset.csv\")\n",
    "dataset.head()"
   ]
  },
  {
   "cell_type": "code",
   "execution_count": null,
   "id": "ae91cd7f",
   "metadata": {},
   "outputs": [],
   "source": [
    "dataset.shape"
   ]
  },
  {
   "cell_type": "code",
   "execution_count": null,
   "id": "1e33c8cd",
   "metadata": {},
   "outputs": [],
   "source": [
    "((30-7)/30)*100"
   ]
  },
  {
   "cell_type": "code",
   "execution_count": null,
   "id": "d18e1cfd",
   "metadata": {},
   "outputs": [],
   "source": [
    "dataset.isnull().sum()"
   ]
  },
  {
   "cell_type": "code",
   "execution_count": null,
   "id": "5200c59f",
   "metadata": {},
   "outputs": [],
   "source": [
    "sns.heatmap(dataset.isnull())\n",
    "plt.show()"
   ]
  },
  {
   "cell_type": "code",
   "execution_count": null,
   "id": "5735e5bc",
   "metadata": {},
   "outputs": [],
   "source": [
    "dataset"
   ]
  },
  {
   "cell_type": "code",
   "execution_count": null,
   "id": "17de5069",
   "metadata": {},
   "outputs": [],
   "source": [
    "dataset.drop(columns=['Loan_Amount'], inplace=False)"
   ]
  },
  {
   "cell_type": "code",
   "execution_count": null,
   "id": "9920abe7",
   "metadata": {},
   "outputs": [],
   "source": [
    "dataset.dropna(inplace=False)"
   ]
  },
  {
   "cell_type": "code",
   "execution_count": null,
   "id": "faf4c4eb",
   "metadata": {},
   "outputs": [],
   "source": [
    "dataset1= pd.read_csv('loan_application.csv')\n",
    "dataset1.head(10)"
   ]
  },
  {
   "cell_type": "code",
   "execution_count": null,
   "id": "7c56a4bb",
   "metadata": {},
   "outputs": [],
   "source": [
    "dataset1.isnull().sum()"
   ]
  },
  {
   "cell_type": "code",
   "execution_count": null,
   "id": "49217d5f",
   "metadata": {},
   "outputs": [],
   "source": [
    "# dataset1.fillna(10).head(10)"
   ]
  },
  {
   "cell_type": "code",
   "execution_count": null,
   "id": "c1650f10",
   "metadata": {},
   "outputs": [],
   "source": [
    "dataset1.fillna(method='bfill')"
   ]
  },
  {
   "cell_type": "code",
   "execution_count": null,
   "id": "24af8197",
   "metadata": {},
   "outputs": [],
   "source": [
    "dataset1.fillna(method='ffill')"
   ]
  },
  {
   "cell_type": "code",
   "execution_count": null,
   "id": "8a667e13",
   "metadata": {},
   "outputs": [],
   "source": [
    "dataset1.info()"
   ]
  }
 ],
 "metadata": {
  "kernelspec": {
   "display_name": "Python 3",
   "language": "python",
   "name": "python3"
  },
  "language_info": {
   "codemirror_mode": {
    "name": "ipython",
    "version": 3
   },
   "file_extension": ".py",
   "mimetype": "text/x-python",
   "name": "python",
   "nbconvert_exporter": "python",
   "pygments_lexer": "ipython3",
   "version": "3.12.3"
  }
 },
 "nbformat": 4,
 "nbformat_minor": 5
}
