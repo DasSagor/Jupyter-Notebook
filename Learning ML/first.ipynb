{
 "cells": [
  {
   "cell_type": "code",
   "execution_count": 2,
   "id": "58da00b7",
   "metadata": {},
   "outputs": [],
   "source": [
    "import pandas as pd\n",
    "import seaborn as sns\n",
    "import matplotlib.pyplot as plt"
   ]
  },
  {
   "cell_type": "code",
   "execution_count": 3,
   "id": "e3d0d020",
   "metadata": {},
   "outputs": [
    {
     "data": {
      "text/html": [
       "<div>\n",
       "<style scoped>\n",
       "    .dataframe tbody tr th:only-of-type {\n",
       "        vertical-align: middle;\n",
       "    }\n",
       "\n",
       "    .dataframe tbody tr th {\n",
       "        vertical-align: top;\n",
       "    }\n",
       "\n",
       "    .dataframe thead th {\n",
       "        text-align: right;\n",
       "    }\n",
       "</style>\n",
       "<table border=\"1\" class=\"dataframe\">\n",
       "  <thead>\n",
       "    <tr style=\"text-align: right;\">\n",
       "      <th></th>\n",
       "      <th>Load_ID</th>\n",
       "      <th>Name</th>\n",
       "      <th>Gender</th>\n",
       "      <th>Married</th>\n",
       "      <th>Dependent</th>\n",
       "      <th>Education</th>\n",
       "      <th>Self_Employed</th>\n",
       "      <th>Application_No</th>\n",
       "      <th>Loan_Amount</th>\n",
       "    </tr>\n",
       "  </thead>\n",
       "  <tbody>\n",
       "    <tr>\n",
       "      <th>0</th>\n",
       "      <td>L001</td>\n",
       "      <td>Alice Johnson</td>\n",
       "      <td>Female</td>\n",
       "      <td>No</td>\n",
       "      <td>NaN</td>\n",
       "      <td>Graduate</td>\n",
       "      <td>Yes</td>\n",
       "      <td>APP1001</td>\n",
       "      <td>123576.0</td>\n",
       "    </tr>\n",
       "    <tr>\n",
       "      <th>1</th>\n",
       "      <td>L002</td>\n",
       "      <td>Brian Smith</td>\n",
       "      <td>Male</td>\n",
       "      <td>NaN</td>\n",
       "      <td>3+</td>\n",
       "      <td>Not Graduate</td>\n",
       "      <td>Yes</td>\n",
       "      <td>APP1002</td>\n",
       "      <td>NaN</td>\n",
       "    </tr>\n",
       "    <tr>\n",
       "      <th>2</th>\n",
       "      <td>L003</td>\n",
       "      <td>Charles Gomez</td>\n",
       "      <td>Female</td>\n",
       "      <td>NaN</td>\n",
       "      <td>2</td>\n",
       "      <td>Not Graduate</td>\n",
       "      <td>No</td>\n",
       "      <td>APP1003</td>\n",
       "      <td>143934.0</td>\n",
       "    </tr>\n",
       "    <tr>\n",
       "      <th>3</th>\n",
       "      <td>L004</td>\n",
       "      <td>Deepa Patel</td>\n",
       "      <td>Female</td>\n",
       "      <td>Yes</td>\n",
       "      <td>1</td>\n",
       "      <td>Not Graduate</td>\n",
       "      <td>No</td>\n",
       "      <td>APP1004</td>\n",
       "      <td>364362.0</td>\n",
       "    </tr>\n",
       "  </tbody>\n",
       "</table>\n",
       "</div>"
      ],
      "text/plain": [
       "  Load_ID           Name  Gender Married Dependent     Education  \\\n",
       "0    L001  Alice Johnson  Female      No       NaN      Graduate   \n",
       "1    L002    Brian Smith    Male     NaN        3+  Not Graduate   \n",
       "2    L003  Charles Gomez  Female     NaN         2  Not Graduate   \n",
       "3    L004    Deepa Patel  Female     Yes         1  Not Graduate   \n",
       "\n",
       "  Self_Employed Application_No  Loan_Amount  \n",
       "0           Yes        APP1001     123576.0  \n",
       "1           Yes        APP1002          NaN  \n",
       "2            No        APP1003     143934.0  \n",
       "3            No        APP1004     364362.0  "
      ]
     },
     "execution_count": 3,
     "metadata": {},
     "output_type": "execute_result"
    }
   ],
   "source": [
    "dataset = pd.read_csv(r\"F:\\Jupyter Notebook\\loan_dataset.csv\")\n",
    "dataset.head(4)\n"
   ]
  },
  {
   "cell_type": "code",
   "execution_count": 4,
   "id": "bd9c7ad2",
   "metadata": {},
   "outputs": [
    {
     "data": {
      "text/plain": [
       "(30, 9)"
      ]
     },
     "execution_count": 4,
     "metadata": {},
     "output_type": "execute_result"
    }
   ],
   "source": [
    "dataset.shape"
   ]
  },
  {
   "cell_type": "code",
   "execution_count": null,
   "id": "376fc071",
   "metadata": {},
   "outputs": [],
   "source": [
    "dataset.isnull()"
   ]
  },
  {
   "cell_type": "code",
   "execution_count": null,
   "id": "2121aa56",
   "metadata": {},
   "outputs": [],
   "source": [
    "dataset.isnull().sum()"
   ]
  },
  {
   "cell_type": "code",
   "execution_count": null,
   "id": "723a095d",
   "metadata": {},
   "outputs": [],
   "source": [
    "(dataset.isnull().sum()/dataset.shape[0])*100"
   ]
  },
  {
   "cell_type": "code",
   "execution_count": null,
   "id": "7442c3f9",
   "metadata": {},
   "outputs": [],
   "source": [
    "dataset1 = pd.read_excel(r\"F:\\Jupyter Notebook\\loan_dataset.xlsx\")\n",
    "dataset1.head(4)\n"
   ]
  },
  {
   "cell_type": "code",
   "execution_count": null,
   "id": "76668d4f",
   "metadata": {},
   "outputs": [],
   "source": [
    "dataset.describe()"
   ]
  },
  {
   "cell_type": "code",
   "execution_count": null,
   "id": "e83b02af",
   "metadata": {},
   "outputs": [],
   "source": [
    "dataset.iloc[1:5]"
   ]
  },
  {
   "cell_type": "code",
   "execution_count": null,
   "id": "89e12e25",
   "metadata": {},
   "outputs": [],
   "source": [
    "dataset"
   ]
  },
  {
   "cell_type": "code",
   "execution_count": null,
   "id": "e1fc5acc",
   "metadata": {},
   "outputs": [],
   "source": [
    "dataset1"
   ]
  },
  {
   "cell_type": "code",
   "execution_count": null,
   "id": "c177a1e2",
   "metadata": {},
   "outputs": [],
   "source": [
    "df = dataset1.fillna(0)\n",
    "df"
   ]
  },
  {
   "cell_type": "code",
   "execution_count": null,
   "id": "4cd7eb28",
   "metadata": {},
   "outputs": [],
   "source": [
    "dataset1.rename(columns={'Education': 'Edu'})"
   ]
  },
  {
   "cell_type": "code",
   "execution_count": null,
   "id": "d6f5f0f3",
   "metadata": {},
   "outputs": [],
   "source": [
    "dataset1.head(4)\n"
   ]
  },
  {
   "cell_type": "code",
   "execution_count": null,
   "id": "9d068b39",
   "metadata": {},
   "outputs": [],
   "source": [
    "df"
   ]
  },
  {
   "cell_type": "code",
   "execution_count": null,
   "id": "92e0e069",
   "metadata": {},
   "outputs": [],
   "source": [
    "def fx(a):\n",
    "    return a +12\n",
    "df['New_Col']= df['Loan_Amount'].apply(fx)\n",
    "df.head(4)"
   ]
  },
  {
   "cell_type": "code",
   "execution_count": 16,
   "id": "0b7b7606",
   "metadata": {},
   "outputs": [
    {
     "data": {
      "text/plain": [
       "Load_ID            0\n",
       "Name               0\n",
       "Gender             0\n",
       "Married           10\n",
       "Dependent          7\n",
       "Education          0\n",
       "Self_Employed      9\n",
       "Application_No     0\n",
       "Loan_Amount       11\n",
       "dtype: int64"
      ]
     },
     "execution_count": 16,
     "metadata": {},
     "output_type": "execute_result"
    }
   ],
   "source": [
    "dataset.isnull().sum()"
   ]
  },
  {
   "cell_type": "code",
   "execution_count": 18,
   "id": "aac908b8",
   "metadata": {},
   "outputs": [
    {
     "data": {
      "text/plain": [
       "37"
      ]
     },
     "execution_count": 18,
     "metadata": {},
     "output_type": "execute_result"
    }
   ],
   "source": [
    "dataset.isnull().sum().sum()"
   ]
  },
  {
   "cell_type": "code",
   "execution_count": 19,
   "id": "01d5c9dd",
   "metadata": {},
   "outputs": [
    {
     "data": {
      "text/plain": [
       "270"
      ]
     },
     "execution_count": 19,
     "metadata": {},
     "output_type": "execute_result"
    }
   ],
   "source": [
    "dataset.shape[0]*dataset.shape[1]"
   ]
  },
  {
   "cell_type": "code",
   "execution_count": 21,
   "id": "8faa610b",
   "metadata": {},
   "outputs": [
    {
     "data": {
      "text/plain": [
       "13.703703703703704"
      ]
     },
     "execution_count": 21,
     "metadata": {},
     "output_type": "execute_result"
    }
   ],
   "source": [
    "(dataset.isnull().sum().sum()/(dataset.shape[0]*dataset.shape[1]))*100"
   ]
  },
  {
   "cell_type": "code",
   "execution_count": 22,
   "id": "515f16e5",
   "metadata": {},
   "outputs": [
    {
     "data": {
      "text/plain": [
       "86.29629629629629"
      ]
     },
     "execution_count": 22,
     "metadata": {},
     "output_type": "execute_result"
    }
   ],
   "source": [
    "(dataset.notnull().sum().sum()/(dataset.shape[0]*dataset.shape[1]))*100"
   ]
  },
  {
   "cell_type": "code",
   "execution_count": 32,
   "id": "883c0e85",
   "metadata": {},
   "outputs": [
    {
     "data": {
      "image/png": "[encoded data removed]",
      "text/plain": [
       "<Figure size 640x480 with 2 Axes>"
      ]
     },
     "metadata": {},
     "output_type": "display_data"
    }
   ],
   "source": [
    "sns.heatmap(dataset.isnull())\n",
    "plt.show()\n"
   ]
  }
 ],
 "metadata": {
  "kernelspec": {
   "display_name": "Python 3",
   "language": "python",
   "name": "python3"
  },
  "language_info": {
   "codemirror_mode": {
    "name": "ipython",
    "version": 3
   },
   "file_extension": ".py",
   "mimetype": "text/x-python",
   "name": "python",
   "nbconvert_exporter": "python",
   "pygments_lexer": "ipython3",
   "version": "3.12.3"
  }
 },
 "nbformat": 4,
 "nbformat_minor": 5
}
